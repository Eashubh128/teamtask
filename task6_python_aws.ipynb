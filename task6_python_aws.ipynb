{
 "cells": [
  {
   "cell_type": "code",
   "execution_count": 81,
   "id": "5bb91eb0",
   "metadata": {},
   "outputs": [],
   "source": [
    "import boto3\n"
   ]
  },
  {
   "cell_type": "code",
   "execution_count": 83,
   "id": "2363dc85",
   "metadata": {},
   "outputs": [
    {
     "name": "stdout",
     "output_type": "stream",
     "text": [
      "i-0125658e4d80cae45\n",
      "ap-south-1a\n"
     ]
    }
   ],
   "source": [
    "def aws_part():\n",
    "    ec2=boto3.client('ec2',region_name='ap-south-1')\n",
    "    instance=ec2.run_instances(ImageId=\"ami-0ad704c126371a549\",MinCount=1,\n",
    "                MaxCount=1, InstanceType=\"t2.micro\",KeyName=\"summer_key\")\n",
    "    instanceid=instance[\"Instances\"][0][\"InstanceId\"]\n",
    "    print(instanceid)\n",
    "    temp=instance[\"Instances\"][0]\n",
    "    avail_zone=temp['Placement']['AvailabilityZone']\n",
    "    print(avail_zone)\n",
    "    ####creating the volume and mounting it to the ec2-instance\n",
    "    ebs=ec2.create_volume(AvailabilityZone=avail_zone, Size=5,VolumeType='gp2')\n",
    "    vol_id=ebs['VolumeId']\n",
    "    print(vol_id)\n",
    "    attach=ec2.attach_volume(Device='/dev/sdf',InstanceId=instanceid, VolumeId=vol_id)\n",
    "    print(attach)\n",
    "    \n",
    "  "
   ]
  },
  {
   "cell_type": "code",
   "execution_count": 84,
   "id": "9aa600c7",
   "metadata": {},
   "outputs": [],
   "source": [
    "\n",
    "    "
   ]
  },
  {
   "cell_type": "code",
   "execution_count": null,
   "id": "adbd1667",
   "metadata": {},
   "outputs": [],
   "source": [
    "\n"
   ]
  },
  {
   "cell_type": "code",
   "execution_count": null,
   "id": "473e6e46",
   "metadata": {},
   "outputs": [],
   "source": []
  },
  {
   "cell_type": "code",
   "execution_count": null,
   "id": "c589c329",
   "metadata": {},
   "outputs": [],
   "source": []
  }
 ],
 "metadata": {
  "kernelspec": {
   "display_name": "Python 3",
   "language": "python",
   "name": "python3"
  },
  "language_info": {
   "codemirror_mode": {
    "name": "ipython",
    "version": 3
   },
   "file_extension": ".py",
   "mimetype": "text/x-python",
   "name": "python",
   "nbconvert_exporter": "python",
   "pygments_lexer": "ipython3",
   "version": "3.6.4"
  }
 },
 "nbformat": 4,
 "nbformat_minor": 5
}
